{
 "cells": [
  {
   "cell_type": "markdown",
   "metadata": {},
   "source": [
    "## Question 1"
   ]
  },
  {
   "cell_type": "markdown",
   "metadata": {},
   "source": [
    "### Part A"
   ]
  },
  {
   "cell_type": "markdown",
   "metadata": {},
   "source": [
    " True: In perfectly inelastic demand, the quantity demanded remains constant regardless of price changes because the consumer's willingness to purchase the good is unaffected by price."
   ]
  },
  {
   "cell_type": "markdown",
   "metadata": {
    "vscode": {
     "languageId": "plaintext"
    }
   },
   "source": [
    "### Part B"
   ]
  },
  {
   "cell_type": "markdown",
   "metadata": {},
   "source": [
    " False: If demand is inelastic (between 0 and -1), increasing price will increase total revenue since the percentage decrease in quantity demanded is smaller than the percentage increase in price."
   ]
  },
  {
   "cell_type": "markdown",
   "metadata": {
    "vscode": {
     "languageId": "plaintext"
    }
   },
   "source": [
    "### Part C"
   ]
  },
  {
   "cell_type": "markdown",
   "metadata": {},
   "source": [
    " False: If demand is unit elastic (elasticity = -1), a decrease in price will not change total revenue, as the percentage increase in quantity demanded offsets the percentage decrease in price."
   ]
  },
  {
   "cell_type": "markdown",
   "metadata": {},
   "source": [
    "### Part D"
   ]
  },
  {
   "cell_type": "markdown",
   "metadata": {},
   "source": [
    " True: If the demand curve shifts to the right and supply elasticity is positive, the equilibrium price will increase because demand outstrips supply at the original price."
   ]
  },
  {
   "cell_type": "markdown",
   "metadata": {},
   "source": [
    "### Part E"
   ]
  },
  {
   "cell_type": "markdown",
   "metadata": {},
   "source": [
    " True: A leftward shift in the supply curve reduces the quantity supplied at each price, leading to a decrease in equilibrium quantity, assuming demand remains constant."
   ]
  },
  {
   "cell_type": "markdown",
   "metadata": {},
   "source": [
    "### Part F"
   ]
  },
  {
   "cell_type": "markdown",
   "metadata": {},
   "source": [
    " Uncertain: If both supply and demand shift right, the effect on equilibrium price depends on the relative magnitudes of the shifts; price could either increase, decrease, or remain unchanged."
   ]
  },
  {
   "cell_type": "markdown",
   "metadata": {},
   "source": [
    "## Question 2"
   ]
  },
  {
   "cell_type": "markdown",
   "metadata": {},
   "source": [
    "### Part A"
   ]
  },
  {
   "cell_type": "markdown",
   "metadata": {
    "vscode": {
     "languageId": "plaintext"
    }
   },
   "source": [
    "The consumer $i$ maximizes their utility by deciding whether to buy the smartphone, givne their budget constraint and valuation. The utility function is $u_i(S_i, E_i) = v_i S_i + E_i$, and the budget constraint is $S_i p_S + E_i \\le b_i$, where $S_i$ is a binary viarable representing whether the consumer buys the smartphone ($S_i = 1$ if they buy, $S_i = 0$ otherwise), $p_s$ is the price of the smartphone, and $E_i$ represents the amount spent on other goods. \n",
    "\n",
    "Thus, the optimization problem is\n",
    "$$\\max_{S_i, E_i} u_i (S_i, E_i) = v_i S_i + E_i$$\n",
    "subject to the budget constraint\n",
    "$$S_i p_S + E_i \\le b_i$$\n",
    "and additional constraint\n",
    "$$S_i \\in \\{ 0, 1 \\}.$$"
   ]
  },
  {
   "cell_type": "markdown",
   "metadata": {},
   "source": []
  },
  {
   "cell_type": "markdown",
   "metadata": {},
   "source": [
    "### Part B"
   ]
  },
  {
   "cell_type": "markdown",
   "metadata": {},
   "source": [
    "The consumer should spend as much as they can on other goods (intuitively), so $E_i = b_i - S_i p_S$, and thus the optimization problem becomes\n",
    "\n",
    "$$\\max_{S_i} u_i (S_i, E_i) = v_i S_i + b_i - S_i p_s = S_i (v_i - p_s) + b_i$$\n",
    "\n",
    "Since $b_i$ is a constant, this is equivalent to maximizing \n",
    "\n",
    "$$\\max_{S_i} S_i (v_i - p_s).$$\n",
    "\n",
    "In this case, if $v_i = p_s$, the consumer is indifferent; if $v_i < p_s$, she should not spend the money; if $v_i > p_s$, she should spend the money.\n"
   ]
  },
  {
   "cell_type": "markdown",
   "metadata": {},
   "source": [
    "### Part C"
   ]
  },
  {
   "cell_type": "markdown",
   "metadata": {},
   "source": [
    "The mand curve depends on the number of consumers whose valuation exceeds the price $p_s$. The valuation $v_i$ is uniformly distribution over $[0, 1000]$, so the probability that the consumer will buy the smartphone is the fraction of consumers whose valuation si greater than or equal to the price $p_s$. For price $p_s$, the fraction of consumers who purchase the smartphone is\n",
    "$$P(v_i \\ge p_s) = \\frac{1000 - p_s}{1000}.$$\n",
    "The total quantitity demanded, $Q(p_s)$, is the fraction of consumers who are willing to buy the smartphone, multiplied by the total number of customers $N_c$:\n",
    "$$Q(p_s) = N_c \\cdot \\frac{1000 - p_s}{1000}.$$\n",
    "The aggregate demand curve can also be rewritten as\n",
    "$$Q(p_s) = N_c \\cdot \\left( 1 - \\frac{p_s}{1000} \\right)$$"
   ]
  },
  {
   "cell_type": "markdown",
   "metadata": {},
   "source": [
    "### Part D"
   ]
  },
  {
   "cell_type": "markdown",
   "metadata": {},
   "source": [
    "At $p_S = 300$,\n",
    "$$Q(300) = N_c \\left(1 - \\frac{300}{1000} \\right) = N_c \\cdot \\frac{700}{1000} = 0.7N_c.$$\n",
    "At $p_S = 6700$:\n",
    "$$Q(700) = N_c \\left(1 - \\frac{700}{1000} \\right) = N_c \\cdot \\frac{300}{1000} = 0.3N_c.$$\n",
    "So, at price $300$, the quantity demanded is $0.7N_c$, and at price $700$, the quantity demanded is $0.3N_c$."
   ]
  },
  {
   "cell_type": "markdown",
   "metadata": {},
   "source": [
    "### Part E"
   ]
  },
  {
   "cell_type": "markdown",
   "metadata": {},
   "source": [
    "The elasticity of demand is given by\n",
    "$$\\frac{dQ}{dp_s} \\cdot \\frac{p_s}{Q}.$$\n",
    "Recall that $$Q(p_s) = N_c \\left(1 - \\frac{p_s}{1000} \\right) \\Longrightarrow \\frac{dQ}{dp_s}= -\\frac{N_c}{1000}.$$\n",
    "So, the elasticity $\\epsilon$ is \n",
    "$$\\epsilon = -\\frac{N_c}{1000} \\cdot \\frac{p_s}{N_c \\left(1 - \\frac{p_s}{1000} \\right)} = -\\frac{p_s}{1000 - p_s}.$$"
   ]
  },
  {
   "cell_type": "markdown",
   "metadata": {},
   "source": [
    "### Part F"
   ]
  },
  {
   "cell_type": "markdown",
   "metadata": {
    "vscode": {
     "languageId": "plaintext"
    }
   },
   "source": [
    "The elasticity is not a function of $N_c$, and only depends on $p_S$. Therefore, doubling $N_c$ does not affect the elasticity."
   ]
  },
  {
   "cell_type": "markdown",
   "metadata": {},
   "source": [
    "### Part G"
   ]
  },
  {
   "cell_type": "markdown",
   "metadata": {},
   "source": [
    "The consumer surplus is the area between the demand curve and the price level $\\overline{p}_s$. Therefore,\n",
    "$$CS(\\overline{p}_S) = \\int_{\\overline{p}_s}^{1000} \\frac{N_c}{1000}(v - \\overline{p}_s) dv.$$\n",
    "Evaluating the integral:\n",
    "$$CS(\\overline{p}_S) = \\frac{N_c}{1000} \\left[ \\frac{(v - \\overline{p}_s)^2}{2} \\right]_{\\overline{p}_S}^{1000} = \\frac{N_c}{1000}\\cdot \\frac{(1000 - \\overline{p}_s)^2}{2} = \\frac{N_c}{2000}\\cdot (1000 - \\overline{p}_s)^2.$$"
   ]
  },
  {
   "cell_type": "markdown",
   "metadata": {},
   "source": [
    "### Part H"
   ]
  },
  {
   "cell_type": "markdown",
   "metadata": {},
   "source": [
    "The consumer surplus when $\\overline{p}_S = 800$ is given by \n",
    "$$CS(800) = \\frac{N_c}{2000}\\cdot (1000 - \\overline{p}_s)^2 = \\frac{N_c}{2000} \\cdot 200^2 = 20N_c.$$"
   ]
  },
  {
   "cell_type": "markdown",
   "metadata": {},
   "source": [
    "### Part I"
   ]
  },
  {
   "cell_type": "markdown",
   "metadata": {},
   "source": [
    "If the consumer valuations are uniformyl distribution from $v_i \\sim U[0, 1200]$, the fraction of consumers willing to buy the smartphone is\n",
    "$$P(v_i \\ge p_s) = \\frac{1200 - p_s}{1200}.$$\n",
    "Thus, the new aggregate demand is \n",
    "$$Q(p_s) = N_c \\cdot \\frac{1200 - p_s}{1200}.$$\n",
    "At $p_s = 300$:\n",
    "$$Q(300) = N_c \\cdot \\frac{1200 - 300}{1200} = N_c \\cdot \\frac{900}{1200} = 0.75N_c.$$\n",
    "At $p_s = 700$:\n",
    "$$Q(700) = N_c \\cdot \\frac{1200 - 700}{1200} = N_c \\cdot \\frac{500}{1200} \\approx 0.4167 N_c.$$\n",
    "So, at a price of $300$, the quantity demanded is $0.75N_c$, and at a priceof $700$, the quantity demanded is $0.4167N_c$."
   ]
  },
  {
   "cell_type": "markdown",
   "metadata": {},
   "source": [
    "## Question 3"
   ]
  },
  {
   "cell_type": "markdown",
   "metadata": {},
   "source": [
    "### Part A"
   ]
  },
  {
   "cell_type": "markdown",
   "metadata": {
    "vscode": {
     "languageId": "plaintext"
    }
   },
   "source": [
    "A factor that could lead to a shift in the aggregate supply curve is technological improvements in the brick production process. If suppliers adopt new technology that reduces the cost of production, the aggregate supply curve will shift to the right (i.e., supply will increase at each price point), reflecting the increased ability to provide bricks at lower costs."
   ]
  },
  {
   "cell_type": "markdown",
   "metadata": {},
   "source": [
    "### Part B"
   ]
  },
  {
   "cell_type": "code",
   "execution_count": 1,
   "metadata": {},
   "outputs": [
    {
     "data": {
      "image/png": "[encoded data removed]",
      "text/plain": [
       "<Figure size 800x600 with 1 Axes>"
      ]
     },
     "metadata": {},
     "output_type": "display_data"
    }
   ],
   "source": [
    "import sys\n",
    "import subprocess\n",
    "subprocess.check_call([sys.executable, \"-m\", \"pip\", \"install\", \"matplotlib\"], stdout=subprocess.DEVNULL, stderr=subprocess.DEVNULL)\n",
    "\n",
    "import matplotlib.pyplot as plt\n",
    "\n",
    "# Data points for the plot\n",
    "quantities = [1000, 1500, 2000, 2500, 3000]\n",
    "prices = [1, 2, 3, 4, 5]\n",
    "\n",
    "# Create the plot\n",
    "plt.figure(figsize=(8, 6))\n",
    "plt.plot(prices, quantities, marker='o', linestyle='-', color='b', label='Supply Curve')\n",
    "\n",
    "# Labeling the plot\n",
    "plt.title(\"Supply Curve of Bricks\", fontsize=16)\n",
    "plt.xlabel(\"Price per Brick ($)\", fontsize=12)\n",
    "plt.ylabel(\"Quantity of Bricks Supplied\", fontsize=12)\n",
    "plt.grid(True)\n",
    "\n",
    "# Display the plot\n",
    "plt.legend()\n",
    "plt.show()"
   ]
  },
  {
   "cell_type": "markdown",
   "metadata": {},
   "source": [
    "### Part C"
   ]
  },
  {
   "cell_type": "markdown",
   "metadata": {},
   "source": [
    "To buy $50,000$ bricks, the best price per brick is $4.00$ dollars, since the total supply at this price level matches the government's demand.\n",
    "\n",
    "| Price per Brick ($)| Mean Quantity per Supplier |\tTotal Market Supply (20 Suppliers) |\n",
    "| -------- | ------- | ------- |\n",
    "| 1.00 | 1,000 | 20,000 |\n",
    "| 2.00 | 1,500 | 30,000 |\n",
    "| 3.00 | 2,000 | 40,000 |\n",
    "| 4.00 | 2,500 | 50,000 |\n",
    "| 5.00| 3,000 | 60,000 |"
   ]
  },
  {
   "cell_type": "markdown",
   "metadata": {},
   "source": [
    "### Part D"
   ]
  },
  {
   "cell_type": "markdown",
   "metadata": {},
   "source": [
    "At $5.00$ dollars per brick, each supplier supplies $3,000$ bricks, so the total market supply is\n",
    "$$20 \\cdot 3,000 = 60,000.$$\n",
    "The government wants $100,000$ bricks, but only $60,000$ are available, so there will be a shortage of $40,000$ bricks. If the government insists on buying $100,000$ bricks, it will have to either increase the price or find new suppliers."
   ]
  },
  {
   "cell_type": "markdown",
   "metadata": {},
   "source": [
    "### Part E"
   ]
  },
  {
   "cell_type": "markdown",
   "metadata": {},
   "source": [
    "idk"
   ]
  },
  {
   "cell_type": "markdown",
   "metadata": {},
   "source": [
    "### Part F"
   ]
  },
  {
   "cell_type": "markdown",
   "metadata": {},
   "source": [
    "At $1.50$ dollars:\n",
    "- Percentage change in quantity is $(1250 - 1000)/1000 = 25\\%$\n",
    "- Percentage change in price is $(1.50 - 1.00)/1.00 = 50\\%.$\n",
    "- Elasticity is $0.5$.\n",
    "\n",
    "At $4.50$ dollars:\n",
    "- Percentage change in quantity is $(2750 - 2500)/2500 = 10 \\%.$\n",
    "- Percentage change in price is $(4.50 - 4.00)/4.00 = 12.5 \\%.$\n",
    "- Elasticity is $0.8$."
   ]
  },
  {
   "cell_type": "markdown",
   "metadata": {},
   "source": [
    "### Part G"
   ]
  },
  {
   "cell_type": "markdown",
   "metadata": {},
   "source": [
    " The supply is more elastic at the higher price point ($4.50$) with an elasticity of $0.8$ compared to $0.5$ at the lower price point. This indicates that suppliers are more responsive to price changes at higher price levels, possibly because they have more capacity to increase production when prices are higher and the profit margin is greater."
   ]
  },
  {
   "cell_type": "markdown",
   "metadata": {},
   "source": [
    "## Problem 4"
   ]
  },
  {
   "cell_type": "markdown",
   "metadata": {},
   "source": [
    "### Part A"
   ]
  },
  {
   "cell_type": "markdown",
   "metadata": {},
   "source": [
    "A classic example is the correlation between ice cream sales and drowning incidents. These two variables tend to increase together, but one does not cause the other. The underlying confounding factor is temperature:\n",
    "- Hot weather increases ice cream sales as more people buy cold desserts.\n",
    "- Hot weather also increases drowning incidents because more people go swimming.\n",
    "\n",
    "Thus, while ice cream sales and drowning incidents are correlated, there is no causal relationship between them."
   ]
  },
  {
   "cell_type": "markdown",
   "metadata": {},
   "source": [
    "### Part B"
   ]
  },
  {
   "cell_type": "markdown",
   "metadata": {},
   "source": [
    "Since $Q(P) = kP^r$, \n",
    "$$\\frac{\\delta Q}{\\delta P} = krP^{r - 1}.$$\n",
    "The elasticity of demand is given by\n",
    "$$\\frac{\\delta Q}{\\delta P} \\cdot \\frac{P}{Q} = krP^{r - 1} \\cdot \\frac{P}{kP^r} = r.$$\n",
    "Since $r$ is a constant, the elasticity remains constant for all values of $P$, confirming that the demand function is isoelastic."
   ]
  },
  {
   "cell_type": "markdown",
   "metadata": {},
   "source": [
    "### Part C"
   ]
  },
  {
   "cell_type": "markdown",
   "metadata": {},
   "source": [
    "I was most surprised by the toys. Many children from lower-income families had incredibly unique and creative toys, mostly handmade rather than store-bought. It makes sense—if a family, like the one in Kenya living on $47$ dollars a month, has such limited resources, spending money on toys wouldn’t be a priority."
   ]
  }
 ],
 "metadata": {
  "kernelspec": {
   "display_name": "Python 3",
   "language": "python",
   "name": "python3"
  },
  "language_info": {
   "codemirror_mode": {
    "name": "ipython",
    "version": 3
   },
   "file_extension": ".py",
   "mimetype": "text/x-python",
   "name": "python",
   "nbconvert_exporter": "python",
   "pygments_lexer": "ipython3",
   "version": "3.10.16"
  }
 },
 "nbformat": 4,
 "nbformat_minor": 2
}
