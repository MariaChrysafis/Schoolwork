{
 "cells": [
  {
   "cell_type": "markdown",
   "metadata": {},
   "source": [
    "## Question 1"
   ]
  },
  {
   "cell_type": "markdown",
   "metadata": {},
   "source": [
    "### Part A"
   ]
  },
  {
   "cell_type": "markdown",
   "metadata": {},
   "source": [
    " True: In perfectly inelastic demand, the quantity demanded remains constant regardless of price changes because the consumer's willingness to purchase the good is unaffected by price."
   ]
  },
  {
   "cell_type": "markdown",
   "metadata": {
    "vscode": {
     "languageId": "plaintext"
    }
   },
   "source": [
    "### Part B"
   ]
  },
  {
   "cell_type": "markdown",
   "metadata": {},
   "source": [
    " False: If demand is inelastic (between 0 and -1), increasing price will increase total revenue since the percentage decrease in quantity demanded is smaller than the percentage increase in price."
   ]
  },
  {
   "cell_type": "markdown",
   "metadata": {
    "vscode": {
     "languageId": "plaintext"
    }
   },
   "source": [
    "### Part C"
   ]
  },
  {
   "cell_type": "markdown",
   "metadata": {},
   "source": [
    " False: If demand is unit elastic (elasticity = -1), a decrease in price will not change total revenue, as the percentage increase in quantity demanded offsets the percentage decrease in price."
   ]
  },
  {
   "cell_type": "markdown",
   "metadata": {},
   "source": [
    "### Part D"
   ]
  },
  {
   "cell_type": "markdown",
   "metadata": {},
   "source": [
    " Uncertain: A rightward shift in the demand curve increases quantity demanded, but the impact on price depends on the elasticity of supply; if supply is highly elastic, price may not rise significantly."
   ]
  },
  {
   "cell_type": "markdown",
   "metadata": {},
   "source": [
    "### Part E"
   ]
  },
  {
   "cell_type": "markdown",
   "metadata": {},
   "source": [
    " True: A leftward shift in the supply curve reduces the quantity supplied at each price, leading to a decrease in equilibrium quantity, assuming demand remains constant."
   ]
  },
  {
   "cell_type": "markdown",
   "metadata": {},
   "source": [
    "### Part F"
   ]
  },
  {
   "cell_type": "markdown",
   "metadata": {},
   "source": [
    " Uncertain: If both supply and demand shift right, the effect on equilibrium price depends on the relative magnitudes of the shifts; price could either increase, decrease, or remain unchanged."
   ]
  },
  {
   "cell_type": "markdown",
   "metadata": {},
   "source": [
    "## Question 2"
   ]
  },
  {
   "cell_type": "markdown",
   "metadata": {},
   "source": [
    "### Part A"
   ]
  },
  {
   "cell_type": "markdown",
   "metadata": {
    "vscode": {
     "languageId": "plaintext"
    }
   },
   "source": [
    "The consumer $i$ maximizes their utility by deciding whether to buy the smartphone, givne their budget constraint and valuation. The utility function is $u_i(S_i, E_i) = v_i S_i + E_i$, and the budget constraint is $S_i p_S + E_i \\le b_i$, where $S_i$ is a binary viarable representing whether the consumer buys the smartphone ($S_i = 1$ if they buy, $S_i = 0$ otherwise), $p_s$ is the price of the smartphone, and $E_i$ represents the amount spent on other goods. \n",
    "\n",
    "Thus, the optimization problem is\n",
    "$$\\max_{S_i, E_i} u_i (S_i, E_i) = v_i S_i + E_i$$\n",
    "subject to the budget constraint\n",
    "$$S_i p_S + E_i \\le b_i.$$"
   ]
  },
  {
   "cell_type": "markdown",
   "metadata": {},
   "source": []
  },
  {
   "cell_type": "markdown",
   "metadata": {},
   "source": [
    "### Part B"
   ]
  },
  {
   "cell_type": "markdown",
   "metadata": {},
   "source": [
    "The consumer should spend as much as they can on other goods (intuitively), so $E_i = b_i - S_i p_S$, and thus the optimization problem becomes\n",
    "\n",
    "$$\\max_{S_i} u_i (S_i, E_i) = v_i S_i + b_i - S_i p_s = S_i (v_i - p_s) + b_i$$\n",
    "\n",
    "Since $b_i$ is a constant, this is equivalent to maximizing \n",
    "\n",
    "$$\\max_{S_i} S_i (v_i - p_s).$$\n",
    "\n",
    "In this case, if $v_i = p_s$, the consumer is indifferent; if $v_i < p_s$, she should not spend the money; if $v_i > p_s$, she should spend the money.\n"
   ]
  },
  {
   "cell_type": "markdown",
   "metadata": {},
   "source": [
    "### Part C"
   ]
  },
  {
   "cell_type": "markdown",
   "metadata": {},
   "source": [
    "The mand curve depends on the number of consumers whose valuation exceeds the price $p_s$. The valuation $v_i$ is uniformly distribution over $[0, 1000]$, so the probability that the consumer will buy the smartphone is the fraction of consumers whose valuation si greater than or equal to the price $p_s$. For price $p_s$, the fraction of consumers who purchase the smartphone is\n",
    "$$P(v_i \\ge p_s) = \\frac{1000 - p_s}{1000}.$$\n",
    "The total quantitity demanded, $Q(p_s)$, is the fraction of consumers who are willing to buy the smartphone, multiplied by the total number of customers $N_c$:\n",
    "$$Q(p_s) = N_c \\cdot \\frac{1000 - p_s}{1000}.$$\n",
    "The aggregate demand curve can also be rewritten as\n",
    "$$Q(p_s) = N_c \\cdot \\left( 1 - \\frac{p_s}{1000} \\right)$$"
   ]
  },
  {
   "cell_type": "markdown",
   "metadata": {},
   "source": [
    "### Part D"
   ]
  },
  {
   "cell_type": "markdown",
   "metadata": {},
   "source": [
    "At $p_S = 300$,\n",
    "$$Q(300) = N_c \\left(1 - \\frac{300}{1000} \\right) = N_c \\cdot \\frac{700}{1000} = 0.7N_c.$$\n",
    "At $p_S = 6700$:\n",
    "$$Q(700) = N_c \\left(1 - \\frac{700}{1000} \\right) = N_c \\cdot \\frac{300}{1000} = 0.3N_c.$$\n",
    "So, at price $300$, the quantity demanded is $0.7N_c$, and at price $700$, the quantity demanded is $0.3N_c$."
   ]
  },
  {
   "cell_type": "markdown",
   "metadata": {},
   "source": [
    "### Part E"
   ]
  },
  {
   "cell_type": "markdown",
   "metadata": {},
   "source": [
    "The elasticity of demand is given by\n",
    "$$\\frac{dQ}{dp_s} \\cdot \\frac{p_s}{Q}.$$\n",
    "Recall that $$Q(p_s) = N_c \\left(1 - \\frac{p_s}{1000} \\right) \\Longrightarrow \\frac{dQ}{dp_s}= -\\frac{N_c}{1000}.$$\n",
    "So, the elasticity $\\epsilon$ is \n",
    "$$\\epsilon = -\\frac{N_c}{1000} \\cdot \\frac{p_s}{N_c \\left(1 - \\frac{p_s}{1000} \\right)} = -\\frac{p_s}{1000 - p_s}.$$"
   ]
  },
  {
   "cell_type": "markdown",
   "metadata": {},
   "source": [
    "### Part F"
   ]
  },
  {
   "cell_type": "markdown",
   "metadata": {
    "vscode": {
     "languageId": "plaintext"
    }
   },
   "source": [
    "The elasticity is not a function of $N_c$, and only depends on $p_S$. Therefore, doubling $N_c$ does not affect the elasticity."
   ]
  },
  {
   "cell_type": "markdown",
   "metadata": {},
   "source": [
    "### Part G"
   ]
  },
  {
   "cell_type": "markdown",
   "metadata": {},
   "source": [
    "The consumer surplus is the area between the demand curve and the price level $\\overline{p}_s$. Therefore,\n",
    "$$CS(\\overline{p}_S) = \\int_{\\overline{p}_s}^{1000} \\frac{N_c}{1000}(v - \\overline{p}_s) dv.$$\n",
    "Evaluating the integral:\n",
    "$$CS(\\overline{p}_S) = \\frac{N_c}{1000} \\left[ \\frac{(v - \\overline{p}_s)^2}{2} \\right]_{\\overline{p}_S}^{1000} = \\frac{N_c}{1000}\\cdot \\frac{(1000 - \\overline{p}_s)^2}{2} = \\frac{N_c}{2000}\\cdot (1000 - \\overline{p}_s)^2.$$"
   ]
  },
  {
   "cell_type": "markdown",
   "metadata": {},
   "source": [
    "### Part H"
   ]
  },
  {
   "cell_type": "markdown",
   "metadata": {},
   "source": [
    "The consumer surplus when $\\overline{p}_S = 800$ is given by \n",
    "$$CS(800) = \\frac{N_c}{2000}\\cdot (1000 - \\overline{p}_s)^2 = \\frac{N_c}{2000} \\cdot 200^2 = 20N_c.$$"
   ]
  },
  {
   "cell_type": "markdown",
   "metadata": {},
   "source": [
    "### Part I"
   ]
  },
  {
   "cell_type": "markdown",
   "metadata": {},
   "source": [
    "If the consumer valuations are uniformyl distribution from $v_i \\sim U[0, 1200]$, the fraction of consumers willing to buy the smartphone is\n",
    "$$P(v_i \\ge p_s) = \\frac{1200 - p_s}{1200}.$$\n",
    "Thus, the new aggregate demand is \n",
    "$$Q(p_s) = N_c \\cdot \\frac{1200 - p_s}{1200}.$$\n",
    "At $p_s = 300$:\n",
    "$$Q(300) = N_c \\cdot \\frac{1200 - 300}{1200} = N_c \\cdot \\frac{900}{1200} = 0.75N_c.$$\n",
    "At $p_s = 700$:\n",
    "$$Q(700) = N_c \\cdot \\frac{1200 - 700}{1200} = N_c \\cdot \\frac{500}{1200} \\approx 0.4167 N_c.$$\n",
    "So, at a price of $300$, the quantity demanded is $0.75N_c$, and at a priceof $700$, the quantity demanded is $0.4167N_c$."
   ]
  }
 ],
 "metadata": {
  "language_info": {
   "name": "python"
  }
 },
 "nbformat": 4,
 "nbformat_minor": 2
}
