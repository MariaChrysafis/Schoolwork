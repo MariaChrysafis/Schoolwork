{
 "cells": [
  {
   "cell_type": "markdown",
   "metadata": {},
   "source": [
    "## Question 1"
   ]
  },
  {
   "cell_type": "markdown",
   "metadata": {},
   "source": [
    "### Part A"
   ]
  },
  {
   "cell_type": "markdown",
   "metadata": {},
   "source": [
    " True: In perfectly inelastic demand, the quantity demanded remains constant regardless of price changes because the consumer's willingness to purchase the good is unaffected by price."
   ]
  },
  {
   "cell_type": "markdown",
   "metadata": {
    "vscode": {
     "languageId": "plaintext"
    }
   },
   "source": [
    "### Part B"
   ]
  },
  {
   "cell_type": "markdown",
   "metadata": {},
   "source": [
    " False: If demand is inelastic (between 0 and -1), increasing price will increase total revenue since the percentage decrease in quantity demanded is smaller than the percentage increase in price."
   ]
  },
  {
   "cell_type": "markdown",
   "metadata": {
    "vscode": {
     "languageId": "plaintext"
    }
   },
   "source": [
    "### Part C"
   ]
  },
  {
   "cell_type": "markdown",
   "metadata": {},
   "source": [
    " False: If demand is unit elastic (elasticity = -1), a decrease in price will not change total revenue, as the percentage increase in quantity demanded offsets the percentage decrease in price."
   ]
  },
  {
   "cell_type": "markdown",
   "metadata": {},
   "source": [
    "### Part D"
   ]
  },
  {
   "cell_type": "markdown",
   "metadata": {},
   "source": [
    " Uncertain: A rightward shift in the demand curve increases quantity demanded, but the impact on price depends on the elasticity of supply; if supply is highly elastic, price may not rise significantly."
   ]
  },
  {
   "cell_type": "markdown",
   "metadata": {},
   "source": [
    "### Part E"
   ]
  },
  {
   "cell_type": "markdown",
   "metadata": {},
   "source": [
    " True: A leftward shift in the supply curve reduces the quantity supplied at each price, leading to a decrease in equilibrium quantity, assuming demand remains constant."
   ]
  },
  {
   "cell_type": "markdown",
   "metadata": {},
   "source": [
    "### Part F"
   ]
  },
  {
   "cell_type": "markdown",
   "metadata": {},
   "source": [
    " Uncertain: If both supply and demand shift right, the effect on equilibrium price depends on the relative magnitudes of the shifts; price could either increase, decrease, or remain unchanged."
   ]
  },
  {
   "cell_type": "markdown",
   "metadata": {},
   "source": [
    "## Question 2"
   ]
  },
  {
   "cell_type": "markdown",
   "metadata": {},
   "source": [
    "### Part A"
   ]
  },
  {
   "cell_type": "markdown",
   "metadata": {
    "vscode": {
     "languageId": "plaintext"
    }
   },
   "source": [
    "The consumer $i$ maximizes their utility by deciding whether to buy the smartphone, givne their budget constraint and valuation. The utility function is $u_i(S_i, E_i) = v_i S_i + E_i$, and the budget constraint is $S_i p_S + E_i \\le b_i$, where $S_i$ is a binary viarable representing whether the consumer buys the smartphone ($S_i = 1$ if they buy, $S_i = 0$ otherwise), $p_s$ is the price of the smartphone, and $E_i$ represents the amount spent on other goods. \n",
    "\n",
    "Thus, the optimization problem is\n",
    "$$\\max_{S_i, E_i} u_i (S_i, E_i) = v_i S_i + E_i$$\n",
    "subject to the budget constraint\n",
    "$$S_i p_S + E_i \\le b_i.$$"
   ]
  },
  {
   "cell_type": "markdown",
   "metadata": {},
   "source": []
  },
  {
   "cell_type": "markdown",
   "metadata": {},
   "source": [
    "### Part B"
   ]
  },
  {
   "cell_type": "markdown",
   "metadata": {},
   "source": [
    "The consumer should spend as much as they can on other goods (intuitively), so $E_i = b_i - S_i p_S$, and thus the optimization problem becomes\n",
    "\n",
    "$$\\max_{S_i} u_i (S_i, E_i) = v_i S_i + b_i - S_i p_s = S_i (v_i - p_s) + b_i$$\n",
    "\n",
    "Since $b_i$ is a constant, this is equivalent to maximizing \n",
    "\n",
    "$$\\max_{S_i} S_i (v_i - p_s).$$\n",
    "\n",
    "In this case, if $v_i = p_s$, the consumer is indifferent; if $v_i < p_s$, she should not spend the money; if $v_i > p_s$, she should spend the money.\n"
   ]
  },
  {
   "cell_type": "markdown",
   "metadata": {},
   "source": [
    "### Part C"
   ]
  },
  {
   "cell_type": "markdown",
   "metadata": {},
   "source": [
    "The mand curve depends on the number of consumers whose valuation exceeds the price $p_s$. The valuation $v_i$ is uniformly distribution over $[0, 1000]$, so the probability that the consumer will buy the smartphone is the fraction of consumers whose valuation si greater than or equal to the price $p_s$. For price $p_s$, the fraction of consumers who purchase the smartphone is\n",
    "$$P(v_i \\ge p_s) = \\frac{1000 - p_s}{1000}.$$\n",
    "The total quantitity demanded, $Q(p_s)$, is the fraction of consumers who are willing to buy the smartphone, multiplied by the total number of customers $N_c$:\n",
    "$$Q(p_s) = N_c \\cdot \\frac{1000 - p_s}{1000}.$$\n",
    "The aggregate demand curve can also be rewritten as\n",
    "$$Q(p_s) = N_c \\cdot \\left( 1 - \\frac{p_s}{1000} \\right)$$"
   ]
  },
  {
   "cell_type": "markdown",
   "metadata": {},
   "source": [
    "### Part D"
   ]
  },
  {
   "cell_type": "markdown",
   "metadata": {},
   "source": []
  }
 ],
 "metadata": {
  "language_info": {
   "name": "python"
  }
 },
 "nbformat": 4,
 "nbformat_minor": 2
}
