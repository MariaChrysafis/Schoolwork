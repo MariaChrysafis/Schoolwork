{
 "cells": [
  {
   "cell_type": "markdown",
   "metadata": {},
   "source": [
    "## Pset 1"
   ]
  },
  {
   "cell_type": "markdown",
   "metadata": {},
   "source": [
    "### Problem 1"
   ]
  },
  {
   "cell_type": "code",
   "execution_count": null,
   "metadata": {
    "vscode": {
     "languageId": "plaintext"
    }
   },
   "outputs": [],
   "source": []
  },
  {
   "cell_type": "markdown",
   "metadata": {},
   "source": [
    "### Problem 2"
   ]
  },
  {
   "cell_type": "code",
   "execution_count": null,
   "metadata": {
    "vscode": {
     "languageId": "plaintext"
    }
   },
   "outputs": [],
   "source": []
  },
  {
   "cell_type": "markdown",
   "metadata": {},
   "source": [
    "### Problem 3"
   ]
  },
  {
   "cell_type": "markdown",
   "metadata": {},
   "source": [
    "#### Part 1"
   ]
  },
  {
   "cell_type": "markdown",
   "metadata": {
    "vscode": {
     "languageId": "latex"
    }
   },
   "source": [
    "The final goods in this economy are instant noodles ($600$ dollars) and the portion of wheat sold as a final good. The wheat company's total revnue is $250$ dollars, but some of that revenue is sold to the noodle company as an intermediate good (100 dollars). Thus, the wheat is sold as a final good at $250 - 100 = 150$ dollars.\n",
    "\n",
    "The GDP is the value of the final goods ($150$ dollars for wheat and $600$ dollars for instant noodles), which amounts to $750$ dollars."
   ]
  },
  {
   "cell_type": "markdown",
   "metadata": {},
   "source": [
    "### Part 2"
   ]
  },
  {
   "cell_type": "markdown",
   "metadata": {},
   "source": [
    "The wheat company has a revenue of $250$ dollars, and since no intermediate goods are used, it has $250$ dollars in added value. As for the instant noodle company, it has a revenue of $600$ dollars and $100$ dollars worth of intermediate good purchases (wheat). So, its value added is $600 - 100 = 500$ dollars. The total value added is $250$ dollars (wheat) plus $500$ dollars (instant) noodles, which amounts to $750$ dollars."
   ]
  },
  {
   "cell_type": "markdown",
   "metadata": {},
   "source": [
    "#### Part 3"
   ]
  },
  {
   "cell_type": "markdown",
   "metadata": {},
   "source": [
    "The wheat company has $90$ dollars in wages and $160$ dollars in profit; the instant noodle company has $60$ dollars in wages and 440 dollars in profit. Thus, the total income is $90$ + $160$ + $60$ + $440$ = $750$ dollars."
   ]
  }
 ],
 "metadata": {
  "language_info": {
   "name": "python"
  }
 },
 "nbformat": 4,
 "nbformat_minor": 2
}
