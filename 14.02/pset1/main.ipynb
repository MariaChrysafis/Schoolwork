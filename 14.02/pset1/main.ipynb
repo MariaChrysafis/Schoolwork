{
 "cells": [
  {
   "cell_type": "markdown",
   "metadata": {},
   "source": [
    "## Pset 1"
   ]
  },
  {
   "cell_type": "markdown",
   "metadata": {},
   "source": [
    "### Problem 1"
   ]
  },
  {
   "cell_type": "code",
   "execution_count": null,
   "metadata": {},
   "outputs": [],
   "source": []
  },
  {
   "cell_type": "markdown",
   "metadata": {},
   "source": [
    "### Problem 2"
   ]
  },
  {
   "cell_type": "code",
   "execution_count": null,
   "metadata": {},
   "outputs": [],
   "source": []
  },
  {
   "cell_type": "markdown",
   "metadata": {},
   "source": [
    "### Problem 3"
   ]
  },
  {
   "cell_type": "markdown",
   "metadata": {},
   "source": [
    "#### Part 1"
   ]
  },
  {
   "cell_type": "markdown",
   "metadata": {
    "vscode": {
     "languageId": "latex"
    }
   },
   "source": [
    "The final goods in this economy are instant noodles ($600$ dollars) and the portion of wheat sold as a final good. The wheat company's total revnue is $250$ dollars, but some of that revenue is sold to the noodle company as an intermediate good (100 dollars). Thus, the wheat is sold as a final good at $250 - 100 = 150$ dollars.\n",
    "\n",
    "The GDP is the value of the final goods ($150$ dollars for wheat and $600$ dollars for instant noodles), which amounts to $750$ dollars."
   ]
  },
  {
   "cell_type": "markdown",
   "metadata": {},
   "source": [
    "### Part 2"
   ]
  },
  {
   "cell_type": "markdown",
   "metadata": {},
   "source": [
    "The wheat company has a revenue of $250$ dollars, and since no intermediate goods are used, it has $250$ dollars in added value. As for the instant noodle company, it has a revenue of $600$ dollars and $100$ dollars worth of intermediate good purchases (wheat). So, its value added is $600 - 100 = 500$ dollars. The total value added is $250$ dollars (wheat) plus $500$ dollars (instant) noodles, which amounts to $750$ dollars."
   ]
  },
  {
   "cell_type": "markdown",
   "metadata": {},
   "source": [
    "#### Part 3"
   ]
  },
  {
   "cell_type": "markdown",
   "metadata": {},
   "source": [
    "The wheat company has $90$ dollars in wages and $160$ dollars in profit; the instant noodle company has $60$ dollars in wages and 440 dollars in profit. Thus, the total income is $90$ + $160$ + $60$ + $440$ = $750$ dollars."
   ]
  },
  {
   "cell_type": "markdown",
   "metadata": {},
   "source": [
    "### Problem 4"
   ]
  },
  {
   "cell_type": "markdown",
   "metadata": {},
   "source": [
    "#### Part 1"
   ]
  },
  {
   "cell_type": "markdown",
   "metadata": {},
   "source": [
    "- $c_0$ represents autonomous consumption, which is the level of consumption that occurs even if the disposable income ($Y_d$) is zero. It captures factors like basic survival consumption and consumer confidence.\n",
    "\n",
    "- $c_1$ is the marginal propensity to consume (MPC), which measures how much consumption increases for each additional unit of disposable income. Since $0 < c_1 < 1$, it means that consumers spend a fraction of each dollar they earn."
   ]
  },
  {
   "cell_type": "markdown",
   "metadata": {},
   "source": [
    "#### Part 2"
   ]
  },
  {
   "cell_type": "code",
   "execution_count": null,
   "outputs": [],
   "source": [],
   "metadata": {
    "collapsed": false
   }
  },
  {
   "cell_type": "code",
   "execution_count": 2,
   "metadata": {
    "ExecuteTime": {
     "end_time": "2025-02-10T16:58:35.465661Z",
     "start_time": "2025-02-10T16:58:35.361961Z"
    }
   },
   "outputs": [
    {
     "name": "stdout",
     "output_type": "stream",
     "text": [
      "HEllo\n"
     ]
    }
   ],
   "source": [
    "print(\"HEllo\")"
   ]
  },
  {
   "cell_type": "markdown",
   "metadata": {},
   "source": [
    "#### Part 3"
   ]
  },
  {
   "cell_type": "markdown",
   "metadata": {},
   "source": [
    "The goods market equilibrium is given by\n",
    "$$Y = Z = C + I + G.$$\n",
    "Substituting $C = c_0 + c_1 Y_D$ and $Y_D = Y - T$:\n",
    "$$Y = (c_0 + c_1(Y-T)) + I + G$$\n",
    "and expanding,\n",
    "$$Y = c_0 + c_1 Y - c_1 T _ I + G.$$\n",
    "Rearranging,\n",
    "$$Y - c_1Y = c_0 + I + G - c_1 T \\Longrightarrow Y(1 - c_1) = c_0 + I + G - c_1 T \\Longrightarrow Y = \\frac{c_0 + I + G - c_1T}{1 - c_1}.$$"
   ]
  },
  {
   "cell_type": "markdown",
   "metadata": {},
   "source": [
    "#### Part 4"
   ]
  },
  {
   "cell_type": "markdown",
   "metadata": {},
   "source": [
    "The multiplier is $$\\frac{1}{1 - c_1}.$$\n",
    "This tells us that an increase in autonomous spending (such as $c_0$) increases the equilibrium output by a factor of $\\frac{1}{1 - c_1}$. The larger $c_1$ (MPC), the stronger the effect."
   ]
  },
  {
   "cell_type": "markdown",
   "metadata": {},
   "source": [
    "#### Part 5"
   ]
  },
  {
   "cell_type": "markdown",
   "metadata": {},
   "source": [
    "Private saving is defined as\n",
    "$$S = Y - T - C.$$\n",
    "Substituting $C = c_0 + c_1 Y_D$ and $Y_d = Y - T$:\n",
    "$$S = Y - T - (c_0 + c_1(Y - T)).$$\n",
    "Expanding:\n",
    "$$S = Y - T - c_0 - c_1 Y + c_1 T = (1 - c_1)Y - (1 - c_1)T - c_0.$$\n",
    "Using the equilibrium, $Y = \\frac{c_0 + I + G - c_1 T}{1 - c_1}$, we can rewrite $S$ in terms of $I$, $T$, $G$:\n",
    "$$S = (1 - c_1) \\cdot \\frac{c_0 + I + G - c_1 T}{1 - c_1} - (1 - c_1)T - c_0 = c_0 + I + G - c_1T - (1 - c_1)T - c_0 =I + G - T.$$\n",
    "Thus, the final expression is \n",
    "$$S= I + G - T.$$"
   ]
  },
  {
   "cell_type": "markdown",
   "metadata": {},
   "source": [
    "#### Part 6"
   ]
  },
  {
   "cell_type": "markdown",
   "metadata": {},
   "source": [
    "If $G = T + B$ and $B = 0$, then $G = T$. The equilibrium simplifies to \n",
    "$$S = I.$$\n",
    "This means that in a balanced budget scenario (no government spending), private savings must exactly equal investment."
   ]
  },
  {
   "cell_type": "markdown",
   "metadata": {},
   "source": [
    "#### Part 7"
   ]
  },
  {
   "cell_type": "markdown",
   "metadata": {},
   "source": [
    "From the expression for $S$:\n",
    "$$S = (1 - c_1)Y - (1 - c_1)T - c_0 = -c_0 + (1 - c_1)Y_D.$$\n",
    "So,\n",
    "$$s_0 = -c_0, s_1 = 1 - c_1.$$\n",
    "$s_0$ represents the level of saving when disposable income is zero (opposite of autonomous consumption), and $s_1 = 1 - c_1$ is the marginal propensity to save (MPS). Since the multiplier is $\\frac{1}{1 -c_1}$, this shows that $s_1$ is the inverse of the multiplier in determining how saving adjust to income prices."
   ]
  }
 ],
 "metadata": {
  "kernelspec": {
   "display_name": "Python 3",
   "language": "python",
   "name": "python3"
  },
  "language_info": {
   "name": "python",
   "version": "3.13.1"
  }
 },
 "nbformat": 4,
 "nbformat_minor": 2
}
